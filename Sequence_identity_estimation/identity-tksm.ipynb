{
 "cells": [
  {
   "cell_type": "code",
   "execution_count": 1,
   "id": "c9b08e07-3562-41dc-a9b7-91860c91b2d8",
   "metadata": {},
   "outputs": [
    {
     "name": "stdout",
     "output_type": "stream",
     "text": [
      "Get:1 http://security.ubuntu.com/ubuntu jammy-security InRelease [129 kB]\n",
      "Get:2 http://archive.ubuntu.com/ubuntu jammy InRelease [270 kB]\n",
      "Get:3 http://archive.ubuntu.com/ubuntu jammy-updates InRelease [128 kB]m\u001b[33m\n",
      "Get:4 http://archive.ubuntu.com/ubuntu jammy-backports InRelease [127 kB][33m\u001b[33m\u001b[33m\u001b[33m\n",
      "Get:5 http://security.ubuntu.com/ubuntu jammy-security/main amd64 Packages [2,505 kB]\n",
      "Get:6 http://archive.ubuntu.com/ubuntu jammy/universe amd64 Packages [17.5 MB]\n",
      "Get:7 http://archive.ubuntu.com/ubuntu jammy/multiverse amd64 Packages [266 kB]\u001b[0m\n",
      "Get:8 http://archive.ubuntu.com/ubuntu jammy/main amd64 Packages [1,792 kB]    \u001b[0m\u001b[33m\n",
      "Get:9 http://archive.ubuntu.com/ubuntu jammy/restricted amd64 Packages [164 kB]\u001b[0m\u001b[33m\n",
      "Get:10 http://archive.ubuntu.com/ubuntu jammy-updates/main amd64 Packages [2,816 kB][33m\u001b[33m\n",
      "Get:11 http://security.ubuntu.com/ubuntu jammy-security/restricted amd64 Packages [3,436 kB]\n",
      "Get:12 http://security.ubuntu.com/ubuntu jammy-security/multiverse amd64 Packages [45.2 kB]3m\u001b[33m\u001b[33m\u001b[33m\u001b[33m\u001b[33m\n",
      "Get:13 http://archive.ubuntu.com/ubuntu jammy-updates/restricted amd64 Packages [3,588 kB]\n",
      "Get:14 http://security.ubuntu.com/ubuntu jammy-security/universe amd64 Packages [1,226 kB]\n",
      "Get:15 http://archive.ubuntu.com/ubuntu jammy-updates/universe amd64 Packages [1,516 kB]3m\n",
      "Get:16 http://archive.ubuntu.com/ubuntu jammy-updates/multiverse amd64 Packages [53.3 kB]\n",
      "Get:17 http://archive.ubuntu.com/ubuntu jammy-backports/main amd64 Packages [111 kB]\n",
      "Get:18 http://archive.ubuntu.com/ubuntu jammy-backports/universe amd64 Packages [37.0 kB]\n",
      "Fetched 35.7 MB in 4s (9,737 kB/s)3m \u001b[0m\u001b[33m\n",
      "Reading package lists... Done\n",
      "Building dependency tree... Done\n",
      "Reading state information... Done\n",
      "140 packages can be upgraded. Run 'apt list --upgradable' to see them.\n",
      "Reading package lists... Done\n",
      "Building dependency tree... Done\n",
      "Reading state information... Done\n",
      "The following NEW packages will be installed:\n",
      "  seqtk\n",
      "0 upgraded, 1 newly installed, 0 to remove and 140 not upgraded.\n",
      "Need to get 30.2 kB of archives.\n",
      "After this operation, 85.0 kB of additional disk space will be used.\n",
      "Get:1 http://archive.ubuntu.com/ubuntu jammy/universe amd64 seqtk amd64 1.3-2 [30.2 kB]\n",
      "Fetched 30.2 kB in 0s (396 kB/s) \u001b[0m\u001b[33m\n",
      "debconf: delaying package configuration, since apt-utils is not installed\n",
      "\n",
      "\u001b7\u001b[0;23r\u001b8\u001b[1ASelecting previously unselected package seqtk.\n",
      "(Reading database ... 49685 files and directories currently installed.)\n",
      "Preparing to unpack .../archives/seqtk_1.3-2_amd64.deb ...\n",
      "\u001b7\u001b[24;0f\u001b[42m\u001b[30mProgress: [  0%]\u001b[49m\u001b[39m [..........................................................] \u001b8\u001b7\u001b[24;0f\u001b[42m\u001b[30mProgress: [ 20%]\u001b[49m\u001b[39m [###########...............................................] \u001b8Unpacking seqtk (1.3-2) ...\n",
      "\u001b7\u001b[24;0f\u001b[42m\u001b[30mProgress: [ 40%]\u001b[49m\u001b[39m [#######################...................................] \u001b8Setting up seqtk (1.3-2) ...\n",
      "\u001b7\u001b[24;0f\u001b[42m\u001b[30mProgress: [ 60%]\u001b[49m\u001b[39m [##################################........................] \u001b8\u001b7\u001b[24;0f\u001b[42m\u001b[30mProgress: [ 80%]\u001b[49m\u001b[39m [##############################################............] \u001b8\n",
      "\u001b7\u001b[0;24r\u001b8\u001b[1A\u001b[J"
     ]
    }
   ],
   "source": [
    "!sudo apt update\n",
    "!sudo apt install seqtk\n",
    "#!seqtk sample PBMC_4/simulated.fastq 1000000 > simulated_PBMC_4.fastq\n",
    "#!seqtk sample real_data/SC3pv3_GEX_Human_PBMC_ONT.fastq 1000000 > SC3pv3_GEX_Human_PBMC_ONT_1M.fastq"
   ]
  },
  {
   "cell_type": "code",
   "execution_count": 2,
   "id": "9da26696-39c8-4a82-9876-57ee501ea702",
   "metadata": {},
   "outputs": [],
   "source": [
    "#!seqtk sample ../../tksm/output/TS/PBMC_single_cell/Tsb.Trc.plA.Tag.SCB.PCR.Flp.Tag.Seq.fastq 1000000 > simulated_PBMC_tksm.fastq\n",
    "!seqtk sample ../../tksm/output/TS/PBMC_single_cell__M2023_1M/Tsb.Trc.plA.Tag.SCB.PCR.Flp.Tag.Seq.fastq 1000000 > simulated_PBMC_tksm_2023.fastq"
   ]
  },
  {
   "cell_type": "code",
   "execution_count": 6,
   "id": "5da6d64a-3b8f-4075-9cd4-b782187dfa63",
   "metadata": {},
   "outputs": [
    {
     "name": "stdout",
     "output_type": "stream",
     "text": [
      "^C\n"
     ]
    }
   ],
   "source": [
    "#tksm\n",
    "!minimap2 -t 25 -c -x map-ont /export/home1/ScNaUmi-seq_B2022/references/refdata-gex-GRCh38-2020-A/fasta/genome.fa\\\n",
    "simulated_PBMC_4.fastq | gzip > identity/simulated_PBMC_4_alignments.paf.gz"
   ]
  },
  {
   "cell_type": "code",
   "execution_count": 7,
   "id": "91e83fbd-3c64-47e9-b9a6-d704b9b014df",
   "metadata": {},
   "outputs": [
    {
     "name": "stdout",
     "output_type": "stream",
     "text": [
      "^C\n"
     ]
    }
   ],
   "source": [
    "#tksm_2023\n",
    "!minimap2 -t 25 -c -x map-ont /export/home1/ScNaUmi-seq_B2022/references/refdata-gex-GRCh38-2020-A/fasta/genome.fa\\\n",
    "simulated_PBMC_tksm_2023.fastq | gzip > identity/simulated_PBMC_4_2023_alignments.paf.gz"
   ]
  },
  {
   "cell_type": "code",
   "execution_count": 7,
   "id": "f978d0bd-e393-4b0d-a70a-866a271b1dd2",
   "metadata": {},
   "outputs": [
    {
     "name": "stdout",
     "output_type": "stream",
     "text": [
      "[M::mm_idx_gen::51.585*1.87] collected minimizers\n",
      "[M::mm_idx_gen::54.870*2.64] sorted minimizers\n",
      "[M::main::54.870*2.64] loaded/built the index for 194 target sequence(s)\n",
      "[M::mm_mapopt_update::56.670*2.59] mid_occ = 705\n",
      "[M::mm_idx_stat] kmer size: 15; skip: 10; is_hpc: 0; #seq: 194\n",
      "[M::mm_idx_stat::57.579*2.56] distinct minimizers: 100159079 (38.79% are singletons); average occurrences: 5.540; average spacing: 5.586; total length: 3099750718\n",
      "[M::worker_pipeline::98.341*11.38] mapped 561240 sequences\n",
      "[M::worker_pipeline::115.356*11.43] mapped 438760 sequences\n",
      "[M::main] Version: 2.28-r1209\n",
      "[M::main] CMD: minimap2 -t 25 -c -x map-ont /export/home1/ScNaUmi-seq_B2022/references/refdata-gex-GRCh38-2020-A/fasta/genome.fa SC3pv3_GEX_Human_PBMC_ONT_1M.fastq\n",
      "[M::main] Real time: 115.616 sec; CPU: 1318.324 sec; Peak RSS: 11.362 GB\n"
     ]
    }
   ],
   "source": [
    "!minimap2 -t 25 -c -x map-ont /export/home1/ScNaUmi-seq_B2022/references/refdata-gex-GRCh38-2020-A/fasta/genome.fa\\\n",
    " SC3pv3_GEX_Human_PBMC_ONT_1M.fastq | gzip > identity/SC3pv3_GEX_Human_PBMC_alignments.paf.gz"
   ]
  },
  {
   "cell_type": "code",
   "execution_count": 9,
   "id": "e833e651-e241-4bb3-babb-9e2994a1c671",
   "metadata": {},
   "outputs": [
    {
     "name": "stdout",
     "output_type": "stream",
     "text": [
      "[M::mm_idx_gen::58.482*1.92] collected minimizers\n",
      "[M::mm_idx_gen::62.054*2.62] sorted minimizers\n",
      "[M::main::62.054*2.62] loaded/built the index for 194 target sequence(s)\n",
      "[M::mm_mapopt_update::63.629*2.58] mid_occ = 705\n",
      "[M::mm_idx_stat] kmer size: 15; skip: 10; is_hpc: 0; #seq: 194\n",
      "[M::mm_idx_stat::64.517*2.56] distinct minimizers: 100159079 (38.79% are singletons); average occurrences: 5.540; average spacing: 5.586; total length: 3099750718\n",
      "[M::worker_pipeline::108.637*8.49] mapped 756513 sequences\n",
      "[M::worker_pipeline::114.753*8.05] mapped 243487 sequences\n",
      "[M::main] Version: 2.24-r1122\n",
      "[M::main] CMD: minimap2 -t 25 -c -x map-ont /export/home1/ScNaUmi-seq_B2022/references/refdata-gex-GRCh38-2020-A/fasta/genome.fa simulated_PBMC_tksm.fastq\n",
      "[M::main] Real time: 114.980 sec; CPU: 924.415 sec; Peak RSS: 13.922 GB\n"
     ]
    }
   ],
   "source": [
    "!minimap2 -t 25 -c -x map-ont /export/home1/ScNaUmi-seq_B2022/references/refdata-gex-GRCh38-2020-A/fasta/genome.fa\\\n",
    "simulated_PBMC_tksm.fastq | gzip > identity/simulated_PBMC_tksm_alignments.paf.gz"
   ]
  },
  {
   "cell_type": "markdown",
   "id": "c7ce89a3-86b2-4f9c-a75a-a99489df3b90",
   "metadata": {},
   "source": [
    "### Align reads to get BAM"
   ]
  },
  {
   "cell_type": "markdown",
   "id": "1146e191-d2f0-4ca0-8098-e3a9dbcbdbb9",
   "metadata": {},
   "source": [
    "### Align reads with --MD flag"
   ]
  },
  {
   "cell_type": "code",
   "execution_count": 69,
   "id": "750522f1-6384-4f75-ad9a-a07a830e38e7",
   "metadata": {},
   "outputs": [
    {
     "name": "stdout",
     "output_type": "stream",
     "text": [
      "[M::mm_idx_gen::51.076*1.87] collected minimizers\n",
      "[M::mm_idx_gen::54.048*2.61] sorted minimizers\n",
      "[M::main::54.048*2.61] loaded/built the index for 194 target sequence(s)\n",
      "[M::mm_mapopt_update::55.782*2.56] mid_occ = 705\n",
      "[M::mm_idx_stat] kmer size: 15; skip: 10; is_hpc: 0; #seq: 194\n",
      "[M::mm_idx_stat::56.664*2.54] distinct minimizers: 100159079 (38.79% are singletons); average occurrences: 5.540; average spacing: 5.586; total length: 3099750718\n",
      "[M::worker_pipeline::108.228*10.53] mapped 561240 sequences\n",
      "[M::worker_pipeline::130.683*10.06] mapped 438760 sequences\n",
      "[M::main] Version: 2.28-r1209\n",
      "[M::main] CMD: minimap2 -ax map-ont --MD -t 20 /export/home1/ScNaUmi-seq_B2022/references/refdata-gex-GRCh38-2020-A/fasta/genome.fa SC3pv3_GEX_Human_PBMC_ONT_1M.fastq\n",
      "[M::main] Real time: 130.963 sec; CPU: 1315.014 sec; Peak RSS: 11.399 GB\n",
      "[bam_sort_core] merging from 2 files and 1 in-memory blocks...\n"
     ]
    }
   ],
   "source": [
    "!minimap2 -ax map-ont --MD -t 20 \\\n",
    "/export/home1/ScNaUmi-seq_B2022/references/refdata-gex-GRCh38-2020-A/fasta/genome.fa \\\n",
    "SC3pv3_GEX_Human_PBMC_ONT_1M.fastq | samtools sort -o identity/sorted_SC3pv3_GEX_Human_PBMC_ONT_1M.bam -T temp\n",
    "!samtools index identity/sorted_SC3pv3_GEX_Human_PBMC_ONT_1M.bam"
   ]
  },
  {
   "cell_type": "code",
   "execution_count": 11,
   "id": "fd4dcdec-073f-42a4-95d7-eb58e2c12e3f",
   "metadata": {},
   "outputs": [
    {
     "name": "stdout",
     "output_type": "stream",
     "text": [
      "[M::mm_idx_gen::53.816*1.92] collected minimizers\n",
      "[M::mm_idx_gen::56.711*2.63] sorted minimizers\n",
      "[M::main::56.711*2.63] loaded/built the index for 194 target sequence(s)\n",
      "[M::mm_mapopt_update::58.470*2.58] mid_occ = 705\n",
      "[M::mm_idx_stat] kmer size: 15; skip: 10; is_hpc: 0; #seq: 194\n",
      "[M::mm_idx_stat::59.352*2.55] distinct minimizers: 100159079 (38.79% are singletons); average occurrences: 5.540; average spacing: 5.586; total length: 3099750718\n",
      "[M::worker_pipeline::110.452*10.15] mapped 572936 sequences\n",
      "[M::worker_pipeline::143.488*12.49] mapped 575152 sequences\n",
      "[M::worker_pipeline::184.935*14.24] mapped 581986 sequences\n",
      "[M::worker_pipeline::217.156*15.04] mapped 578029 sequences\n",
      "[M::worker_pipeline::230.549*14.19] mapped 423354 sequences\n",
      "[M::main] Version: 2.28-r1209\n",
      "[M::main] CMD: minimap2 -ax map-ont --MD -t 20 /export/home1/ScNaUmi-seq_B2022/references/refdata-gex-GRCh38-2020-A/fasta/genome.fa PBMC_test_identity/simulated.fastq\n",
      "[M::main] Real time: 230.840 sec; CPU: 3272.717 sec; Peak RSS: 11.629 GB\n",
      "[bam_sort_core] merging from 7 files and 1 in-memory blocks...\n"
     ]
    }
   ],
   "source": [
    "!minimap2 -ax map-ont --MD -t 20 \\\n",
    "/export/home1/ScNaUmi-seq_B2022/references/refdata-gex-GRCh38-2020-A/fasta/genome.fa \\\n",
    " PBMC_test_identity/simulated.fastq | samtools sort -o identity/sorted_simulated_PBMC_identity.bam -T temp\n",
    "!samtools index identity/sorted_simulated_PBMC_identity.bam"
   ]
  },
  {
   "cell_type": "code",
   "execution_count": 18,
   "id": "0148f8ab-2a30-49b8-96c5-187f94e3a24f",
   "metadata": {},
   "outputs": [],
   "source": [
    "!minimap2 -ax map-ont --MD -t 20 \\\n",
    "/export/home1/ScNaUmi-seq_B2022/references/refdata-gex-GRCh38-2020-A/fasta/genome.fa \\\n",
    " simulated_PBMC_tksm.fastq | samtools sort -o identity/simulated_PBMC_tksm.bam -T temp\n",
    "!samtools index identity/simulated_PBMC_tksm.bam"
   ]
  },
  {
   "cell_type": "code",
   "execution_count": 9,
   "id": "eac38023-8058-467c-ac3f-af25a9a0eae4",
   "metadata": {},
   "outputs": [
    {
     "name": "stdout",
     "output_type": "stream",
     "text": [
      "[M::mm_idx_gen::54.615*1.88] collected minimizers\n",
      "[M::mm_idx_gen::57.798*2.57] sorted minimizers\n",
      "[M::main::57.798*2.57] loaded/built the index for 194 target sequence(s)\n",
      "[M::mm_mapopt_update::59.367*2.53] mid_occ = 705\n",
      "[M::mm_idx_stat] kmer size: 15; skip: 10; is_hpc: 0; #seq: 194\n",
      "[M::mm_idx_stat::60.262*2.51] distinct minimizers: 100159079 (38.79% are singletons); average occurrences: 5.540; average spacing: 5.586; total length: 3099750718\n",
      "[M::worker_pipeline::117.547*7.91] mapped 711969 sequences\n",
      "[M::main] Version: 2.24-r1122\n",
      "[M::main] CMD: minimap2 -ax map-ont --MD -t 20 /export/home1/ScNaUmi-seq_B2022/references/refdata-gex-GRCh38-2020-A/fasta/genome.fa simulated_PBMC_tksm_2023.fastq\n",
      "[M::main] Real time: 117.798 sec; CPU: 929.883 sec; Peak RSS: 14.569 GB\n",
      "[bam_sort_core] merging from 1 files and 1 in-memory blocks...\n"
     ]
    }
   ],
   "source": [
    "!minimap2 -ax map-ont --MD -t 20 \\\n",
    "/export/home1/ScNaUmi-seq_B2022/references/refdata-gex-GRCh38-2020-A/fasta/genome.fa \\\n",
    " simulated_PBMC_tksm_2023.fastq | samtools sort -o identity/simulated_PBMC_tksm_2023.bam -T temp\n",
    "!samtools index identity/simulated_PBMC_tksm_2023.bam"
   ]
  },
  {
   "cell_type": "code",
   "execution_count": 11,
   "id": "543d4366-2deb-43d4-850c-74072cd890b4",
   "metadata": {},
   "outputs": [],
   "source": [
    "import pysam\n",
    "\n",
    "def count_substitutions(bam_file):\n",
    "    bam = pysam.AlignmentFile(bam_file, \"rb\")\n",
    "    mis_dict = dict()\n",
    "    substitution_counts = {\n",
    "        'T>C': 0, 'A>G': 0, 'G>A': 0, 'C>T': 0, 'C>G': 0, 'G>C': 0, 'G>T': 0, 'T>A': 0, 'C>A': 0, 'A>T': 0\n",
    "    }\n",
    "    i = 0\n",
    "    for read in bam.fetch():\n",
    "        if i > 100000:\n",
    "            break\n",
    "        if not read.is_unmapped and not read.is_secondary:\n",
    "            seq = read.query_sequence\n",
    "            if seq is None:\n",
    "                continue\n",
    "            \n",
    "            ref_positions = read.get_reference_positions()\n",
    "            if not ref_positions:\n",
    "                continue\n",
    "                \n",
    "            aligned_pairs = read.get_aligned_pairs(with_seq=True)\n",
    "            count_mis = 0\n",
    "            for q_pos, r_pos, ref_base in aligned_pairs:\n",
    "                if q_pos is not None and r_pos is not None and ref_base is not None and q_pos < len(seq):\n",
    "                    query_base = seq[q_pos].upper()\n",
    "                    ref_base = ref_base.upper()\n",
    "                    if query_base != ref_base:\n",
    "                        substitution = f'{ref_base}>{query_base}'\n",
    "                        if substitution in substitution_counts:\n",
    "                           substitution_counts[substitution] += 1\n",
    "                           i+=1\n",
    "                           count_mis += 1\n",
    "            \n",
    "            if count_mis not in mis_dict:\n",
    "                mis_dict[count_mis] = 0\n",
    "                \n",
    "            mis_dict[count_mis] += 1\n",
    "\n",
    "    bam.close()\n",
    "    return substitution_counts, mis_dict"
   ]
  },
  {
   "cell_type": "code",
   "execution_count": 13,
   "id": "3b04b899-f289-4ac5-9a74-7a30bba453c7",
   "metadata": {},
   "outputs": [],
   "source": [
    "bam_file = 'identity/sorted_SC3pv3_GEX_Human_PBMC_ONT_1M.bam'\n",
    "real_sub_counts, real_mis = count_substitutions(bam_file)"
   ]
  },
  {
   "cell_type": "code",
   "execution_count": 14,
   "id": "1ab16457-9224-4ca5-99c2-8224a7b938b6",
   "metadata": {},
   "outputs": [],
   "source": [
    "bam_file = 'identity/sorted_simulated_PBMC_identity.bam'\n",
    "sim_sub_counts, sim_mis = count_substitutions(bam_file)"
   ]
  },
  {
   "cell_type": "code",
   "execution_count": 15,
   "id": "6d1cc079-ba5f-4df0-8b40-e9bb4bc0a505",
   "metadata": {},
   "outputs": [],
   "source": [
    "bam_file = 'identity/simulated_PBMC_tksm.bam'\n",
    "tksm_sub_counts, tksm_mis = count_substitutions(bam_file)"
   ]
  },
  {
   "cell_type": "code",
   "execution_count": 16,
   "id": "b5478891-1939-43bb-a9ad-a9a47bc167fb",
   "metadata": {},
   "outputs": [],
   "source": [
    "bam_file = 'identity/simulated_PBMC_tksm_2023.bam'\n",
    "tksm_2023_sub_counts, tksm_2023_mis = count_substitutions(bam_file)"
   ]
  },
  {
   "cell_type": "code",
   "execution_count": 51,
   "id": "fab6fb24-2ee0-4ffe-9774-2cb604759f21",
   "metadata": {},
   "outputs": [
    {
     "name": "stdout",
     "output_type": "stream",
     "text": [
      "/export/home1/ScNaUmi-seq_B2022/wf-SLSim/paper\n"
     ]
    }
   ],
   "source": [
    "!pwd"
   ]
  },
  {
   "cell_type": "markdown",
   "id": "229a5aaf-451b-4c2d-abe1-d7eb80296bd7",
   "metadata": {},
   "source": [
    "## After alignment to the human hg38 genome, we counted the number of mismatch and indel."
   ]
  },
  {
   "cell_type": "code",
   "execution_count": 50,
   "id": "cf1c478f-5acd-4533-8882-eeafde3af279",
   "metadata": {},
   "outputs": [
    {
     "data": {
      "image/png": "[encoded data removed]",
      "text/plain": [
       "<Figure size 1000x600 with 1 Axes>"
      ]
     },
     "metadata": {},
     "output_type": "display_data"
    }
   ],
   "source": [
    "import matplotlib.pyplot as plt\n",
    "import numpy\n",
    "\n",
    "labels = list(real_sub_counts.keys())\n",
    "\n",
    "real_tot = sum(real_sub_counts.values())\n",
    "real_values = [real_sub_counts[label]/real_tot for label in labels]\n",
    "\n",
    "sim_tot = sum(sim_sub_counts.values())\n",
    "sim_values = [sim_sub_counts[label]/sim_tot for label in labels]\n",
    "\n",
    "tksm_tot = sum(tksm_sub_counts.values())\n",
    "tksm_values = [tksm_sub_counts[label]/tksm_tot for label in labels]\n",
    "\n",
    "#tksm_23_tot = sum(tksm_2023_sub_counts.values())\n",
    "#tksm_23_values = [tksm_2023_sub_counts[label]/tksm_23_tot for label in labels]\n",
    "\n",
    "\n",
    "x = range(len(labels)) \n",
    "\n",
    "fig, ax = plt.subplots(figsize=(10, 6))\n",
    "\n",
    "width = 0.2\n",
    "\n",
    "positions_tksm = [i - width for i in x]\n",
    "positions_sim = [i for i in x]\n",
    "positions_real = [i + width for i in x]\n",
    "\n",
    "#x_real = x - width  # Décalage à gauche\n",
    "#x_sim = x           # Pas de décalage\n",
    "#x_tksm = x + width  # Décalage à droite\n",
    "\n",
    "ax.bar(positions_real, real_values, width=width, label='Real', align='center', color='#FF7F0E')\n",
    "ax.bar(positions_sim, sim_values, width=width, label='AsaruSim', align='center', color='#9467BD')\n",
    "ax.bar(positions_tksm, tksm_values, width=width, label='TKSM', align='center', color='#4DAF4A')\n",
    "\n",
    "ax.set_ylabel('Counts')\n",
    "ax.set_title('Comparison of Substitution Counts')\n",
    "ax.set_xticks(x)\n",
    "ax.set_xticklabels(labels, rotation=45)\n",
    "ax.legend()\n",
    "\n",
    "plt.savefig(\"fig3.pdf\", format=\"pdf\")\n",
    "\n",
    "plt.show()"
   ]
  },
  {
   "cell_type": "code",
   "execution_count": 18,
   "id": "3717004e-5da8-46a4-9c47-61b8d40551d6",
   "metadata": {},
   "outputs": [],
   "source": [
    "ax.bar(positions_real, real_values, width=width, label='Real', align='center')\n",
    "ax.bar(positions_sim, sim_values, width=width, label='AsaruSim', align='center')\n",
    "ax.bar(positions_tksm, tksm_values, width=width, label='TKSM', align='center')\n",
    "\n",
    "ax.set_ylabel('Counts')\n",
    "ax.set_title('Comparison of Substitution Counts')\n",
    "ax.set_xticks(x)\n",
    "ax.set_xticklabels(labels, rotation=45)\n",
    "ax.legend()\n",
    "\n",
    "plt.show()"
   ]
  },
  {
   "cell_type": "markdown",
   "id": "bc9bd75a-d65f-444c-badd-c88779deddb7",
   "metadata": {},
   "source": [
    "### Minimap stats"
   ]
  },
  {
   "cell_type": "code",
   "execution_count": 29,
   "id": "a0a9d20f-d994-4ce5-8a75-c8c45e7b6968",
   "metadata": {},
   "outputs": [],
   "source": [
    "import os\n",
    "import subprocess\n",
    "import pandas as pd\n",
    "import matplotlib.pyplot as plt\n",
    "from collections import Counter\n",
    "\n",
    "def plot_ed(ed_real, id_real,  ed_sim, id_sim, ed_tksm, id_tksm, ed_tksm_2023, id_tksm_2023, xlab):\n",
    "    dict_tksm_2023 = dict(Counter(ed_tksm_2023))\n",
    "    total_tksm_2023 = sum(dict_tksm_2023.values())\n",
    "    dict_tksm_2023 = {key: value / total_tksm_2023 for key, value in sorted(dict_tksm_2023.items())}\n",
    "    #dict_tksm_2023 = dict(sorted(dict_tksm_2023.items()))\n",
    "    \n",
    "    dict_tksm = dict(Counter(ed_tksm))\n",
    "    total_tksm = sum(dict_tksm.values())\n",
    "    dict_tksm = {key: value / total_tksm for key, value in sorted(dict_tksm.items())}\n",
    "    #dict_tksm = dict(sorted(dict_tksm.items()))\n",
    "\n",
    "    dict_sim = dict(Counter(ed_sim))\n",
    "    total_sim = sum(dict_sim.values())\n",
    "    dict_sim = {key: value / total_sim for key, value in sorted(dict_sim.items())}\n",
    "    #dict_sim = dict(sorted(dict_sim.items()))\n",
    "    \n",
    "    dict_real = dict(Counter(ed_real))\n",
    "    total_real = sum(dict_real.values())\n",
    "    dict_real = {key: value / total_real for key, value in sorted(dict_real.items())}\n",
    "    #dict_real = dict(sorted(dict_real.items()))\n",
    "    \n",
    "    key_sim = list(dict_sim.keys())\n",
    "    val_sim = list(dict_sim.values())\n",
    "\n",
    "    key_tksm = list(dict_tksm.keys())\n",
    "    val_tksm = list(dict_tksm.values())\n",
    "\n",
    "    key_tksm_2023 = list(dict_tksm_2023.keys())\n",
    "    val_tksm_2023 = list(dict_tksm_2023.values())\n",
    "    \n",
    "    key_real = list(dict_real.keys())\n",
    "    val_real = list(dict_real.values())\n",
    "    \n",
    "    \n",
    "    largeur_barre = 0.2\n",
    "\n",
    "    positions_tksm = [i - 0.4 for i in range(len(key_tksm))]\n",
    "    positions_tksm_2023 = [i - largeur_barre for i in range(len(key_tksm_2023))]\n",
    "    positions_sim = [i for i in range(len(key_sim))]\n",
    "    positions_real = [i + largeur_barre for i in range(len(key_real))]\n",
    "\n",
    "    plt.bar(positions_sim, val_sim, width=largeur_barre, label=\"AsaruSim data\", color='#9467BD')\n",
    "    plt.bar(positions_real, val_real, width=largeur_barre, label=\"Real data\", color='#FF7F0E')\n",
    "    plt.bar(positions_tksm, val_tksm, width=largeur_barre, label=\"TKSM data\", color='#4DAF4A')\n",
    "    plt.bar(positions_tksm_2023, val_tksm_2023, width=largeur_barre, label=\"TKSM 2023 data\", color='#377EB8')\n",
    "    \n",
    "    # \n",
    "    etiquettes = key_real if len(key_real)>len(key_sim) else key_sim\n",
    "    plt.xticks(range(len(etiquettes)), etiquettes)\n",
    "    \n",
    "    # \n",
    "    plt.xlabel(xlab)\n",
    "    plt.ylabel('Count')\n",
    "    plt.title('Distance from adapter sequence (22nt)') \n",
    "    plt_txt = max(val_real)/2\n",
    "    plt.text(4,plt_txt, \"Mean % id Real = {}%\".format(round(id_real),1),{'color':'#FF7F0E','weight':'heavy','size':10})\n",
    "    plt.text(4,plt_txt/1.2, \"Mean % id AsaruSim ={}%\".format(round(id_sim),1),{'color':'#9467BD','weight':'heavy','size':10})\n",
    "    plt.text(4,plt_txt/1.5, \"Mean % id TKSM ={}%\".format(round(id_tksm),1),{'color':'#4DAF4A','weight':'heavy','size':10})\n",
    "    plt.text(4,plt_txt/1.8, \"Mean % id TKSM 2023={}%\".format(round(id_tksm_2023),1),{'color':'#377EB8','weight':'heavy','size':10})\n",
    "    plt.legend()\n",
    "    \n",
    "    # \n",
    "    plt.savefig(\"fig_tksm.pdf\", format=\"pdf\")\n",
    "    plt.show()\n",
    "\n",
    "\n",
    "def run_subprocess(cmd):\n",
    "    \"\"\"\n",
    "    Run OS command and return stdout & stderr\n",
    "    \"\"\"\n",
    "    p = subprocess.Popen(cmd, shell=True, stderr=subprocess.PIPE)\n",
    "    stdout, stderr = p.communicate()\n",
    "    return str(stdout), str(stderr)\n",
    "\n",
    "\n",
    "def call_vsearch(tmp_fasta, adapters_fasta=\"adapter_seqs.fasta\",  min_adapter_id=0.7):\n",
    "    \"\"\" \"\"\"\n",
    "    tmp_vsearch = tmp_fasta.replace(\".fasta\", \".vsearch.tsv\")\n",
    "\n",
    "    vsearch_cmd = \"vsearch --usearch_global {fasta} --db {adapters} \\\n",
    "    --threads 1 --minseqlength 20 --maxaccepts 5 --id {id} --strand plus \\\n",
    "    --wordlength 3 --minwordmatches 10 --output_no_hits --userfields \\\n",
    "    'query+target+id+alnlen+mism+opens+qilo+qihi+qstrand+tilo+tihi+ql+tl' \\\n",
    "    --userout {output}\".format(\n",
    "        fasta=tmp_fasta,\n",
    "        id=min_adapter_id,\n",
    "        adapters=adapters_fasta,\n",
    "        output=tmp_vsearch,\n",
    "    )\n",
    "    stdout, stderr = run_subprocess(vsearch_cmd)\n",
    "    print(stdout)\n",
    "    print(stderr)\n",
    "    return tmp_vsearch\n",
    "\n",
    "\n",
    "def vsearsh_align(fasta, adapter):\n",
    "    vsearch_cmd = call_vsearch(tmp_fasta=fasta, adapters_fasta=adapter,  min_adapter_id=0.7)\n",
    "    colnames = [\n",
    "            \"query\",\n",
    "            \"target\",\n",
    "            \"id\",\n",
    "            \"alnlen\",\n",
    "            \"mism\",\n",
    "            \"opens\",\n",
    "            \"qilo\",\n",
    "            \"qihi\",\n",
    "            \"qstrand\",\n",
    "            \"tilo\",\n",
    "            \"tihi\",\n",
    "            \"ql\",\n",
    "            \"tl\",\n",
    "        ]\n",
    "    \n",
    "    df = pd.read_csv(vsearch_cmd, sep=\"\\t\", header=None, names=colnames)\n",
    "    df = df[df.id != 0]\n",
    "    df = df[df.alnlen == 22]\n",
    "    os.remove(vsearch_cmd)\n",
    "    return df.id.mean(), list(df.mism), list(df.opens)"
   ]
  },
  {
   "cell_type": "markdown",
   "id": "546af07c-5a40-4244-974e-699589432961",
   "metadata": {},
   "source": [
    "VSEARCH OUTPUT\n",
    "query:\n",
    "The name or identifier of the query sequence. This is the sequence being compared to the database.\n",
    "\n",
    "target:\n",
    "The name or identifier of the target sequence. This is the corresponding sequence found in the database.\n",
    "\n",
    "id:\n",
    "The percentage identity between the query and the target. Calculated as the number of identical positions divided by the length of the alignment.\n",
    "\n",
    "alnlen:\n",
    "The length of the alignment between the query and the target. This includes aligned positions, gaps, matches, and mismatches.\n",
    "\n",
    "mism:\n",
    "The number of mismatches (different positions) in the alignment between the query and the target.\n",
    "\n",
    "opens:\n",
    "The number of gap openings (insertions or deletions) in the alignment.\n",
    "\n",
    "qilo:\n",
    "The start position of the alignment on the query sequence.\n",
    "\n",
    "qihi:\n",
    "The end position of the alignment on the query sequence.\n",
    "\n",
    "qstrand:\n",
    "The strand direction for the query sequence. Possible values are:\n",
    "\n",
    "    + for the forward strand.\n",
    "    - for the reverse strand.\n",
    "\n",
    "tilo:\n",
    "The start position of the alignment on the target sequence.\n",
    "\n",
    "tihi:\n",
    "The end position of the alignment on the target sequence.\n",
    "\n",
    "ql:\n",
    "The total length of the query sequence.\n",
    "\n",
    "tl:\n",
    "The total length of the target sequence."
   ]
  },
  {
   "cell_type": "code",
   "execution_count": 20,
   "id": "6766a8d9-7ba5-4a8e-8908-24c746dc9f0b",
   "metadata": {},
   "outputs": [],
   "source": [
    "#!seqtk seq -a simulated_PBMC_tksm.fastq > PBMC_test_identity/simulated_PBMC_tksm.fasta\n",
    "!seqtk seq -a simulated_PBMC_tksm_2023.fastq > PBMC_test_identity/simulated_PBMC_tksm_2023.fasta"
   ]
  },
  {
   "cell_type": "code",
   "execution_count": 28,
   "id": "54603561-30af-42c1-b75d-c46c6477c5d9",
   "metadata": {},
   "outputs": [
    {
     "name": "stdout",
     "output_type": "stream",
     "text": [
      "None\n",
      "b'vsearch v2.23.0_linux_x86_64, 188.7GB RAM, 32 cores\\nhttps://github.com/torognes/vsearch\\n\\nReading file error_profiling/fasta/adapter.fasta 100%\\n44 nt in 2 seqs, min 22, max 22, avg 22\\nMasking 100%\\nCounting k-mers 100%\\nCreating k-mer index 100%\\nSearching 100%\\nMatching unique query sequences: 836031 of 1000000 (83.60%)\\n'\n"
     ]
    }
   ],
   "source": [
    "fasta_real = \"SC3pv3_GEX_Human_PBMC_ONT_1M.fasta\" \n",
    "fasta_Sim = \"PBMC_test_identity/simulated.fasta\" #simulated_PBMC_3.fasta\"\n",
    "fasta_tksm = \"PBMC_test_identity/simulated_PBMC_tksm.fasta\"\n",
    "fasta_tksm_2023 = \"PBMC_test_identity/simulated_PBMC_tksm_2023.fasta\"\n",
    "\n",
    "adapter = \"error_profiling/fasta/adapter.fasta\"\n",
    "\n",
    "#id_real, mism_real, opens_real= vsearsh_align(fasta_real, adapter)\n",
    "#id_sim, mism_sim, opens_sim= vsearsh_align(fasta_Sim, adapter)\n",
    "id_tksm, mism_tksm,  opens_tksm= vsearsh_align(fasta_tksm, adapter)\n",
    "#id_tksm_2023, mism_tksm_2023,  opens_tksm_2023= vsearsh_align(fasta_tksm_2023, adapter)"
   ]
  },
  {
   "cell_type": "code",
   "execution_count": 43,
   "id": "8fec555b-9eab-484a-80f4-f3a4d5a26926",
   "metadata": {},
   "outputs": [
    {
     "name": "stdout",
     "output_type": "stream",
     "text": [
      "/export/home1/ScNaUmi-seq_B2022/wf-SLSim/paper\n"
     ]
    }
   ],
   "source": [
    "!pwd"
   ]
  },
  {
   "cell_type": "code",
   "execution_count": 44,
   "id": "6ba15342-0809-45fb-8e68-e7c875491f12",
   "metadata": {},
   "outputs": [
    {
     "data": {
      "image/png": "[encoded data removed]",
      "text/plain": [
       "<Figure size 640x480 with 1 Axes>"
      ]
     },
     "metadata": {},
     "output_type": "display_data"
    }
   ],
   "source": [
    "plot_ed(ed_real=mism_real, id_real=id_real, \n",
    "        ed_sim=mism_sim, id_sim=id_sim,\n",
    "        ed_tksm=mism_tksm, id_tksm=id_tksm,\n",
    "        ed_tksm_2023=mism_tksm_2023, id_tksm_2023=id_tksm_2023, xlab=\"Number of mismatchs\")"
   ]
  },
  {
   "cell_type": "code",
   "execution_count": 32,
   "id": "4fe222eb-3260-4654-9be7-c265451104d2",
   "metadata": {},
   "outputs": [
    {
     "data": {
      "image/png": "[encoded data removed]",
      "text/plain": [
       "<Figure size 640x480 with 1 Axes>"
      ]
     },
     "metadata": {},
     "output_type": "display_data"
    }
   ],
   "source": [
    "plot_ed(ed_real=opens_real, id_real=id_real, \n",
    "        ed_sim=opens_sim, id_sim=id_sim,\n",
    "        ed_tksm=opens_tksm, id_tksm=id_tksm,\n",
    "        ed_tksm_2023=opens_tksm_2023, id_tksm_2023=id_tksm_2023,xlab=\"Number of gaps\")"
   ]
  },
  {
   "cell_type": "code",
   "execution_count": null,
   "id": "04c25b8b-f00a-4825-b0c6-71a29a6c4349",
   "metadata": {},
   "outputs": [],
   "source": []
  }
 ],
 "metadata": {
  "kernelspec": {
   "display_name": "Python 3 (ipykernel)",
   "language": "python",
   "name": "python3"
  },
  "language_info": {
   "codemirror_mode": {
    "name": "ipython",
    "version": 3
   },
   "file_extension": ".py",
   "mimetype": "text/x-python",
   "name": "python",
   "nbconvert_exporter": "python",
   "pygments_lexer": "ipython3",
   "version": "3.11.3"
  }
 },
 "nbformat": 4,
 "nbformat_minor": 5
}
